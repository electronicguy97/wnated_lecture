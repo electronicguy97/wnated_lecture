{
 "cells": [
  {
   "cell_type": "code",
   "execution_count": 1,
   "metadata": {},
   "outputs": [
    {
     "ename": "ModuleNotFoundError",
     "evalue": "No module named 'open3d'",
     "output_type": "error",
     "traceback": [
      "\u001b[1;31m---------------------------------------------------------------------------\u001b[0m",
      "\u001b[1;31mModuleNotFoundError\u001b[0m                       Traceback (most recent call last)",
      "Cell \u001b[1;32mIn[1], line 2\u001b[0m\n\u001b[0;32m      1\u001b[0m \u001b[39m# 3D데이터 시각화\u001b[39;00m\n\u001b[1;32m----> 2\u001b[0m \u001b[39mimport\u001b[39;00m \u001b[39mopen3d\u001b[39;00m \u001b[39mas\u001b[39;00m \u001b[39mo3d\u001b[39;00m\n\u001b[0;32m      3\u001b[0m \u001b[39mprint\u001b[39m(\u001b[39m\"\u001b[39m\u001b[39mLoad a ply point cloud, print it, and render it\u001b[39m\u001b[39m\"\u001b[39m)\n\u001b[0;32m      4\u001b[0m sample_ply_data \u001b[39m=\u001b[39m o3d\u001b[39m.\u001b[39mdata\u001b[39m.\u001b[39mPLYPointCloud()\n",
      "\u001b[1;31mModuleNotFoundError\u001b[0m: No module named 'open3d'"
     ]
    }
   ],
   "source": [
    "# 3D데이터 시각화\n",
    "import open3d as o3d\n",
    "print(\"Load a ply point cloud, print it, and render it\")\n",
    "sample_ply_data = o3d.data.PLYPointCloud()\n",
    "pcd = o3d.io.read_point_cloud(sample_ply_data.path)\n",
    "o3d.visualization.draw_geometries([pcd],\n",
    "zoom=0.3412,\n",
    "front=[0.4257, -0.2125, -0.8795],\n",
    "lookat=[2.6172, 2.0475, 1.532],\n",
    "up = [-0.0694, -0.8768, 0.2024])"
   ]
  },
  {
   "cell_type": "code",
   "execution_count": null,
   "metadata": {},
   "outputs": [],
   "source": [
    "# print Cloud 시각화\n",
    "print(\"Downsample the point cloud with a voxel of 0.05\")\n",
    "downpcd = pcd.voxel_down_sample(voxel_size=0.05)\n",
    "o3d.visualization.draw_geometries([downpcd],\n",
    " zoom=0.3412,\n",
    "front=[0.4257, -0.2125, -0.8795],\n",
    " lookat=[2.6172, 2.0475, 1.532],\n",
    " up=[-0.0694, -0.9768, 0.2024])"
   ]
  },
  {
   "cell_type": "code",
   "execution_count": null,
   "metadata": {},
   "outputs": [],
   "source": [
    "# print Cloud 시각화\n",
    "print(\"Recompute the normal of the downsampled point cloud\")\n",
    "downpcd.estimate_normals(\n",
    " search_param=o3d.geometry.KDTreeSearchParamHybrid(radius=0.1,\n",
    "max_nn=30))\n",
    "o3d.visualization.draw_geometries([downpcd],\n",
    " zoom=0.3412,\n",
    "front=[0.4257, -0.2125, -0.8795],\n",
    " lookat=[2.6172, 2.0475, 1.532],\n",
    " up=[-0.0694, -0.9768, 0.2024],\n",
    " point_show_normal=True)"
   ]
  },
  {
   "cell_type": "code",
   "execution_count": null,
   "metadata": {},
   "outputs": [],
   "source": [
    "# Mesh 시각화 Triangle mesh\n",
    "print(\"Testing mesh in Open3D...\")\n",
    "knot_mesh = o3d.data.KnotMesh()\n",
    "mesh = o3d.io.read_triangle_mesh(knot_mesh.path)\n",
    "print(mesh)\n",
    "print('Vertices:')\n",
    "print(np.asarray(mesh.vertices))\n",
    "print('Triangles:')\n",
    "print(np.asarray(mesh.triangles))"
   ]
  },
  {
   "cell_type": "code",
   "execution_count": null,
   "metadata": {},
   "outputs": [],
   "source": [
    "# Mesh 시각화 Visualize mesh\n",
    "print(\"Try to render a mesh with normals (exist: \" +\n",
    " str(mesh.has_vertex_normals()) + \") and colors (exist: \" +\n",
    " str(mesh.has_vertex_colors()) + \")\")\n",
    "o3d.visualization.draw_geometries([mesh])\n",
    "print(\"A mesh with no normals and no colors does not look good.\")"
   ]
  },
  {
   "cell_type": "code",
   "execution_count": null,
   "metadata": {},
   "outputs": [],
   "source": [
    "# Mesh 시각화 Surface normal estimation\n",
    "print(\"Computing normal and rendering it.\")\n",
    "mesh.compute_vertex_normals()\n",
    "print(np.asarray(mesh.triangle_normals))\n",
    "o3d.visualization.draw_geometries([mesh])"
   ]
  },
  {
   "cell_type": "code",
   "execution_count": null,
   "metadata": {},
   "outputs": [],
   "source": [
    "# Mesh 시각화 Crop mesh\n",
    "print(\"We make a partial mesh of only the first half triangles.\")\n",
    "mesh1 = copy.deepcopy(mesh)\n",
    "mesh1.triangles = o3d.utility.Vector3iVector(\n",
    " np.asarray(mesh1.triangles)[:len(mesh1.triangles) // 2, :])\n",
    "mesh1.triangle_normals = o3d.utility.Vector3dVector(\n",
    " np.asarray(mesh1.triangle_normals)[:len(mesh1.triangle_normals) // 2, :])\n",
    "print(mesh1.triangles)\n",
    "o3d.visualization.draw_geometries([mesh1])"
   ]
  },
  {
   "cell_type": "code",
   "execution_count": null,
   "metadata": {},
   "outputs": [],
   "source": [
    "# Mesh 시각화 Crop mesh\n",
    "print(\"Painting the mesh\")\n",
    "mesh1.paint_uniform_color([1, 0.706, 0])\n",
    "o3d.visualization.draw_geometries([mesh1])"
   ]
  }
 ],
 "metadata": {
  "kernelspec": {
   "display_name": "Python 3",
   "language": "python",
   "name": "python3"
  },
  "language_info": {
   "codemirror_mode": {
    "name": "ipython",
    "version": 3
   },
   "file_extension": ".py",
   "mimetype": "text/x-python",
   "name": "python",
   "nbconvert_exporter": "python",
   "pygments_lexer": "ipython3",
   "version": "3.11.4"
  },
  "orig_nbformat": 4
 },
 "nbformat": 4,
 "nbformat_minor": 2
}
